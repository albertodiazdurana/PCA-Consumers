{
 "cells": [
  {
   "cell_type": "markdown",
   "metadata": {},
   "source": [
    "# I Love You\n",
    "This Jupyter Notebook describes the procedure to apply Priciple Component Analysis to a data set obtained from the survey from your thesis. for some reason the data set you gave mein a csv file contained only 5 rows.\n",
    "This procedure can be applied to many more rows and maybe the results could be more revealing.\n",
    "This is my present to you for our 3 year aniversary of knowing each other and having experienced beautiful moments together."
   ]
  },
  {
   "cell_type": "code",
   "execution_count": 103,
   "metadata": {
    "ExecuteTime": {
     "end_time": "2020-04-28T20:34:10.011988Z",
     "start_time": "2020-04-28T20:34:08.898994Z"
    }
   },
   "outputs": [],
   "source": [
    "import pandas as pd\n",
    "import numpy as np\n",
    "import random as rd\n",
    "from sklearn.decomposition import PCA\n",
    "from sklearn import preprocessing\n",
    "import matplotlib.pyplot as plt"
   ]
  },
  {
   "cell_type": "markdown",
   "metadata": {},
   "source": [
    "This procedure is based on https://www.youtube.com/watch?v=Lsue2gEM9D0 and https://github.com/StatQuest/pca_demo/blob/master/pca_demo.py"
   ]
  },
  {
   "cell_type": "markdown",
   "metadata": {},
   "source": [
    "## Import and prepare data"
   ]
  },
  {
   "cell_type": "code",
   "execution_count": 104,
   "metadata": {
    "ExecuteTime": {
     "end_time": "2020-04-28T20:34:10.046989Z",
     "start_time": "2020-04-28T20:34:10.016994Z"
    }
   },
   "outputs": [],
   "source": [
    "data=pd.read_csv(\"survey_data.csv\", header=0, delimiter=\";\",encoding = \"ISO-8859-1\")"
   ]
  },
  {
   "cell_type": "code",
   "execution_count": 105,
   "metadata": {
    "ExecuteTime": {
     "end_time": "2020-04-28T20:34:10.118990Z",
     "start_time": "2020-04-28T20:34:10.053994Z"
    }
   },
   "outputs": [
    {
     "data": {
      "text/html": [
       "<div>\n",
       "<style scoped>\n",
       "    .dataframe tbody tr th:only-of-type {\n",
       "        vertical-align: middle;\n",
       "    }\n",
       "\n",
       "    .dataframe tbody tr th {\n",
       "        vertical-align: top;\n",
       "    }\n",
       "\n",
       "    .dataframe thead th {\n",
       "        text-align: right;\n",
       "    }\n",
       "</style>\n",
       "<table border=\"1\" class=\"dataframe\">\n",
       "  <thead>\n",
       "    <tr style=\"text-align: right;\">\n",
       "      <th></th>\n",
       "      <th>_Antwort-ID</th>\n",
       "      <th>2. Question 2/15    Which age bracket do you belong to?</th>\n",
       "      <th>3. Question 3/15    Which gender do you identify as?</th>\n",
       "      <th>5. Question 5/15    How often do you consume plant-based milk alternatives, such as oat milk, almond milk, soy milk, etc.?</th>\n",
       "      <th>Score Benefits</th>\n",
       "      <th>Score Values</th>\n",
       "      <th>Final Score</th>\n",
       "      <th>Info Received</th>\n",
       "      <th>Consumer Acceptance Before Benefit Information</th>\n",
       "      <th>Consumer Acceptance After Packaging Information</th>\n",
       "      <th>...</th>\n",
       "      <th>15. 12/15    Imagine consuming powdered plant-based milk alternatives.     Which product features would be more important to you?</th>\n",
       "      <th>Appearance (1) - Easier transport (6)</th>\n",
       "      <th>Flavour (1) - Easier transport (6)</th>\n",
       "      <th>Texture (1) - Easier transport (6)</th>\n",
       "      <th>Appearance (1) - Mixing your own flavours (6)</th>\n",
       "      <th>Flavour (1) - Mixing your own flavours (6)</th>\n",
       "      <th>Texture (1) - Mixing your own flavours (6)</th>\n",
       "      <th>16. 13/15    What is your current employment status?</th>\n",
       "      <th>17. 14/15    Do you have kids?</th>\n",
       "      <th>18. 15/15    What is your households total net income (after tax) per month? If you dont know the exact figure, please give an estimate.</th>\n",
       "    </tr>\n",
       "  </thead>\n",
       "  <tbody>\n",
       "    <tr>\n",
       "      <th>0</th>\n",
       "      <td>65050219</td>\n",
       "      <td>25 to 34 years</td>\n",
       "      <td>Female</td>\n",
       "      <td>Less than once per month</td>\n",
       "      <td>1</td>\n",
       "      <td>0,8</td>\n",
       "      <td>0,9</td>\n",
       "      <td>Packaging</td>\n",
       "      <td>0</td>\n",
       "      <td>20</td>\n",
       "      <td>...</td>\n",
       "      <td>NaN</td>\n",
       "      <td>NaN</td>\n",
       "      <td>NaN</td>\n",
       "      <td>NaN</td>\n",
       "      <td>NaN</td>\n",
       "      <td>NaN</td>\n",
       "      <td>NaN</td>\n",
       "      <td>Employed</td>\n",
       "      <td>nein</td>\n",
       "      <td>3000 to under 5000</td>\n",
       "    </tr>\n",
       "    <tr>\n",
       "      <th>1</th>\n",
       "      <td>65050081</td>\n",
       "      <td>25 to 34 years</td>\n",
       "      <td>Female</td>\n",
       "      <td>One to three times per month</td>\n",
       "      <td>0,3</td>\n",
       "      <td>0,8</td>\n",
       "      <td>0,5</td>\n",
       "      <td>Packaging</td>\n",
       "      <td>20</td>\n",
       "      <td>40</td>\n",
       "      <td>...</td>\n",
       "      <td>NaN</td>\n",
       "      <td>NaN</td>\n",
       "      <td>NaN</td>\n",
       "      <td>NaN</td>\n",
       "      <td>NaN</td>\n",
       "      <td>NaN</td>\n",
       "      <td>NaN</td>\n",
       "      <td>Employed</td>\n",
       "      <td>nein</td>\n",
       "      <td>2000 to under 2500</td>\n",
       "    </tr>\n",
       "    <tr>\n",
       "      <th>2</th>\n",
       "      <td>64443035</td>\n",
       "      <td>25 to 34 years</td>\n",
       "      <td>Female</td>\n",
       "      <td>Less than once per month</td>\n",
       "      <td>0,3</td>\n",
       "      <td>0,8</td>\n",
       "      <td>0,6</td>\n",
       "      <td>Packaging</td>\n",
       "      <td>80</td>\n",
       "      <td>100</td>\n",
       "      <td>...</td>\n",
       "      <td>NaN</td>\n",
       "      <td>NaN</td>\n",
       "      <td>NaN</td>\n",
       "      <td>NaN</td>\n",
       "      <td>NaN</td>\n",
       "      <td>NaN</td>\n",
       "      <td>NaN</td>\n",
       "      <td>Employed</td>\n",
       "      <td>nein</td>\n",
       "      <td>2500 to under 3000</td>\n",
       "    </tr>\n",
       "    <tr>\n",
       "      <th>3</th>\n",
       "      <td>64165242</td>\n",
       "      <td>25 to 34 years</td>\n",
       "      <td>Female</td>\n",
       "      <td>Less than once per month</td>\n",
       "      <td>0,6</td>\n",
       "      <td>0,8</td>\n",
       "      <td>0,7</td>\n",
       "      <td>Packaging</td>\n",
       "      <td>10</td>\n",
       "      <td>30</td>\n",
       "      <td>...</td>\n",
       "      <td>NaN</td>\n",
       "      <td>NaN</td>\n",
       "      <td>NaN</td>\n",
       "      <td>NaN</td>\n",
       "      <td>NaN</td>\n",
       "      <td>NaN</td>\n",
       "      <td>NaN</td>\n",
       "      <td>Employed</td>\n",
       "      <td>nein</td>\n",
       "      <td>5000 or more</td>\n",
       "    </tr>\n",
       "    <tr>\n",
       "      <th>4</th>\n",
       "      <td>63855730</td>\n",
       "      <td>25 to 34 years</td>\n",
       "      <td>Male</td>\n",
       "      <td>Three or more times per week</td>\n",
       "      <td>0,7</td>\n",
       "      <td>0,8</td>\n",
       "      <td>0,8</td>\n",
       "      <td>Packaging</td>\n",
       "      <td>30</td>\n",
       "      <td>50</td>\n",
       "      <td>...</td>\n",
       "      <td>NaN</td>\n",
       "      <td>NaN</td>\n",
       "      <td>NaN</td>\n",
       "      <td>NaN</td>\n",
       "      <td>NaN</td>\n",
       "      <td>NaN</td>\n",
       "      <td>NaN</td>\n",
       "      <td>Other</td>\n",
       "      <td>nein</td>\n",
       "      <td>1000 to under 1500</td>\n",
       "    </tr>\n",
       "  </tbody>\n",
       "</table>\n",
       "<p>5 rows × 40 columns</p>\n",
       "</div>"
      ],
      "text/plain": [
       "   _Antwort-ID 2. Question 2/15    Which age bracket do you belong to?  \\\n",
       "0     65050219                                     25 to 34 years        \n",
       "1     65050081                                     25 to 34 years        \n",
       "2     64443035                                     25 to 34 years        \n",
       "3     64165242                                     25 to 34 years        \n",
       "4     63855730                                     25 to 34 years        \n",
       "\n",
       "  3. Question 3/15    Which gender do you identify as?  \\\n",
       "0                                             Female     \n",
       "1                                             Female     \n",
       "2                                             Female     \n",
       "3                                             Female     \n",
       "4                                               Male     \n",
       "\n",
       "  5. Question 5/15    How often do you consume plant-based milk alternatives, such as oat milk, almond milk, soy milk, etc.?  \\\n",
       "0                           Less than once per month                                                                           \n",
       "1                       One to three times per month                                                                           \n",
       "2                           Less than once per month                                                                           \n",
       "3                           Less than once per month                                                                           \n",
       "4                       Three or more times per week                                                                           \n",
       "\n",
       "  Score Benefits Score Values Final Score Info Received  \\\n",
       "0              1          0,8         0,9     Packaging   \n",
       "1            0,3          0,8         0,5     Packaging   \n",
       "2            0,3          0,8         0,6     Packaging   \n",
       "3            0,6          0,8         0,7     Packaging   \n",
       "4            0,7          0,8         0,8     Packaging   \n",
       "\n",
       "   Consumer Acceptance Before Benefit Information  \\\n",
       "0                                               0   \n",
       "1                                              20   \n",
       "2                                              80   \n",
       "3                                              10   \n",
       "4                                              30   \n",
       "\n",
       "   Consumer Acceptance After Packaging Information  ...  \\\n",
       "0                                               20  ...   \n",
       "1                                               40  ...   \n",
       "2                                              100  ...   \n",
       "3                                               30  ...   \n",
       "4                                               50  ...   \n",
       "\n",
       "   15. 12/15    Imagine consuming powdered plant-based milk alternatives.     Which product features would be more important to you?  \\\n",
       "0                                                NaN                                                                                   \n",
       "1                                                NaN                                                                                   \n",
       "2                                                NaN                                                                                   \n",
       "3                                                NaN                                                                                   \n",
       "4                                                NaN                                                                                   \n",
       "\n",
       "   Appearance (1) - Easier transport (6)  Flavour (1) - Easier transport (6)  \\\n",
       "0                                    NaN                                 NaN   \n",
       "1                                    NaN                                 NaN   \n",
       "2                                    NaN                                 NaN   \n",
       "3                                    NaN                                 NaN   \n",
       "4                                    NaN                                 NaN   \n",
       "\n",
       "  Texture (1) - Easier transport (6)  \\\n",
       "0                                NaN   \n",
       "1                                NaN   \n",
       "2                                NaN   \n",
       "3                                NaN   \n",
       "4                                NaN   \n",
       "\n",
       "   Appearance (1) - Mixing your own flavours (6)  \\\n",
       "0                                            NaN   \n",
       "1                                            NaN   \n",
       "2                                            NaN   \n",
       "3                                            NaN   \n",
       "4                                            NaN   \n",
       "\n",
       "   Flavour (1) - Mixing your own flavours (6)  \\\n",
       "0                                         NaN   \n",
       "1                                         NaN   \n",
       "2                                         NaN   \n",
       "3                                         NaN   \n",
       "4                                         NaN   \n",
       "\n",
       "   Texture (1) - Mixing your own flavours (6)  \\\n",
       "0                                         NaN   \n",
       "1                                         NaN   \n",
       "2                                         NaN   \n",
       "3                                         NaN   \n",
       "4                                         NaN   \n",
       "\n",
       "   16. 13/15    What is your current employment status?  \\\n",
       "0                                           Employed      \n",
       "1                                           Employed      \n",
       "2                                           Employed      \n",
       "3                                           Employed      \n",
       "4                                              Other      \n",
       "\n",
       "   17. 14/15    Do you have kids?  \\\n",
       "0                            nein   \n",
       "1                            nein   \n",
       "2                            nein   \n",
       "3                            nein   \n",
       "4                            nein   \n",
       "\n",
       "   18. 15/15    What is your households total net income (after tax) per month? If you dont know the exact figure, please give an estimate.  \n",
       "0                               3000 to under 5000                                                                                           \n",
       "1                               2000 to under 2500                                                                                           \n",
       "2                               2500 to under 3000                                                                                           \n",
       "3                                      5000 or more                                                                                           \n",
       "4                               1000 to under 1500                                                                                           \n",
       "\n",
       "[5 rows x 40 columns]"
      ]
     },
     "execution_count": 105,
     "metadata": {},
     "output_type": "execute_result"
    }
   ],
   "source": [
    "data.head()"
   ]
  },
  {
   "cell_type": "code",
   "execution_count": 106,
   "metadata": {
    "ExecuteTime": {
     "end_time": "2020-04-28T20:34:10.135995Z",
     "start_time": "2020-04-28T20:34:10.125993Z"
    }
   },
   "outputs": [],
   "source": [
    "colNames = data.columns.values\n",
    "colNames[3] = \"'5. Question 5/15    How often do you consume plant-based milk alternatives\"\n",
    "colNames[13] = \"'12. 10/15    Think of the plant-based milk alternative that you currently consume most often\"\n",
    "colNames[26] = \"'14. 12/15    Imagine consuming powdered plant-based milk alternatives\"\n",
    "colNames[30] = \"'15. 12/15    Imagine consuming powdered plant-based milk alternatives\"\n",
    "colNames[39] = \"'18. 15/15    What is your households total net income (after tax) per month\""
   ]
  },
  {
   "cell_type": "code",
   "execution_count": 107,
   "metadata": {
    "ExecuteTime": {
     "end_time": "2020-04-28T20:34:10.156995Z",
     "start_time": "2020-04-28T20:34:10.142990Z"
    }
   },
   "outputs": [
    {
     "data": {
      "text/plain": [
       "array(['_Antwort-ID',\n",
       "       '2. Question 2/15    Which age bracket do you belong to?',\n",
       "       '3. Question 3/15    Which gender do you identify as?',\n",
       "       \"'5. Question 5/15    How often do you consume plant-based milk alternatives\",\n",
       "       'Score Benefits', 'Score Values', 'Final Score', 'Info Received',\n",
       "       'Consumer Acceptance Before Benefit Information',\n",
       "       'Consumer Acceptance After Packaging Information',\n",
       "       'Consumer Acceptance After Convenience Information',\n",
       "       'Change in Consumer Acceptance Packaging',\n",
       "       'Change in Consumer Acceptance Convenience',\n",
       "       \"'12. 10/15    Think of the plant-based milk alternative that you currently consume most often\",\n",
       "       'Change Importance Appearance - Packaging Benefit',\n",
       "       'Change Importance Flavour - Packaging Benefit',\n",
       "       'Change Importance Texture - Packaging Benefit',\n",
       "       'Change Importance Appearance - Transport Benefit',\n",
       "       'Change Importance Flavour - Transport Benefit',\n",
       "       'Change Importance Texture - Transport Benefit',\n",
       "       'Change Importance Appearance - Mixing Flavours Benefit',\n",
       "       'Change Importance Flavour - Mixing Flavours Benefit',\n",
       "       'Change Importance Texture - Mixing Flavours Benefit',\n",
       "       'Appearance before benefit', 'Flavour before benefit',\n",
       "       'Texture before benefit',\n",
       "       \"'14. 12/15    Imagine consuming powdered plant-based milk alternatives\",\n",
       "       'Appearance (1) - Reduced packaging (6)',\n",
       "       'Flavour (1) - Reduced packaging (6)',\n",
       "       'Texture (1) - Reduced packaging (6)',\n",
       "       \"'15. 12/15    Imagine consuming powdered plant-based milk alternatives\",\n",
       "       'Appearance (1) - Easier transport (6)',\n",
       "       'Flavour (1) - Easier transport (6)',\n",
       "       'Texture (1) - Easier transport (6)',\n",
       "       'Appearance (1) - Mixing your own flavours (6)',\n",
       "       'Flavour (1) - Mixing your own flavours (6)',\n",
       "       'Texture (1) - Mixing your own flavours (6)',\n",
       "       '16. 13/15    What is your current employment status?',\n",
       "       '17. 14/15    Do you have kids?',\n",
       "       \"'18. 15/15    What is your households total net income (after tax) per month\"],\n",
       "      dtype=object)"
      ]
     },
     "execution_count": 107,
     "metadata": {},
     "output_type": "execute_result"
    }
   ],
   "source": [
    "colNames"
   ]
  },
  {
   "cell_type": "markdown",
   "metadata": {},
   "source": [
    "### Replacing the header with the shorter names"
   ]
  },
  {
   "cell_type": "code",
   "execution_count": 108,
   "metadata": {
    "ExecuteTime": {
     "end_time": "2020-04-28T20:34:10.226991Z",
     "start_time": "2020-04-28T20:34:10.162988Z"
    }
   },
   "outputs": [
    {
     "data": {
      "text/html": [
       "<div>\n",
       "<style scoped>\n",
       "    .dataframe tbody tr th:only-of-type {\n",
       "        vertical-align: middle;\n",
       "    }\n",
       "\n",
       "    .dataframe tbody tr th {\n",
       "        vertical-align: top;\n",
       "    }\n",
       "\n",
       "    .dataframe thead th {\n",
       "        text-align: right;\n",
       "    }\n",
       "</style>\n",
       "<table border=\"1\" class=\"dataframe\">\n",
       "  <thead>\n",
       "    <tr style=\"text-align: right;\">\n",
       "      <th></th>\n",
       "      <th>_Antwort-ID</th>\n",
       "      <th>2. Question 2/15    Which age bracket do you belong to?</th>\n",
       "      <th>3. Question 3/15    Which gender do you identify as?</th>\n",
       "      <th>'5. Question 5/15    How often do you consume plant-based milk alternatives</th>\n",
       "      <th>Score Benefits</th>\n",
       "      <th>Score Values</th>\n",
       "      <th>Final Score</th>\n",
       "      <th>Info Received</th>\n",
       "      <th>Consumer Acceptance Before Benefit Information</th>\n",
       "      <th>Consumer Acceptance After Packaging Information</th>\n",
       "      <th>...</th>\n",
       "      <th>'15. 12/15    Imagine consuming powdered plant-based milk alternatives</th>\n",
       "      <th>Appearance (1) - Easier transport (6)</th>\n",
       "      <th>Flavour (1) - Easier transport (6)</th>\n",
       "      <th>Texture (1) - Easier transport (6)</th>\n",
       "      <th>Appearance (1) - Mixing your own flavours (6)</th>\n",
       "      <th>Flavour (1) - Mixing your own flavours (6)</th>\n",
       "      <th>Texture (1) - Mixing your own flavours (6)</th>\n",
       "      <th>16. 13/15    What is your current employment status?</th>\n",
       "      <th>17. 14/15    Do you have kids?</th>\n",
       "      <th>'18. 15/15    What is your households total net income (after tax) per month</th>\n",
       "    </tr>\n",
       "  </thead>\n",
       "  <tbody>\n",
       "    <tr>\n",
       "      <th>0</th>\n",
       "      <td>65050219</td>\n",
       "      <td>25 to 34 years</td>\n",
       "      <td>Female</td>\n",
       "      <td>Less than once per month</td>\n",
       "      <td>1</td>\n",
       "      <td>0,8</td>\n",
       "      <td>0,9</td>\n",
       "      <td>Packaging</td>\n",
       "      <td>0</td>\n",
       "      <td>20</td>\n",
       "      <td>...</td>\n",
       "      <td>NaN</td>\n",
       "      <td>NaN</td>\n",
       "      <td>NaN</td>\n",
       "      <td>NaN</td>\n",
       "      <td>NaN</td>\n",
       "      <td>NaN</td>\n",
       "      <td>NaN</td>\n",
       "      <td>Employed</td>\n",
       "      <td>nein</td>\n",
       "      <td>3000 to under 5000</td>\n",
       "    </tr>\n",
       "    <tr>\n",
       "      <th>1</th>\n",
       "      <td>65050081</td>\n",
       "      <td>25 to 34 years</td>\n",
       "      <td>Female</td>\n",
       "      <td>One to three times per month</td>\n",
       "      <td>0,3</td>\n",
       "      <td>0,8</td>\n",
       "      <td>0,5</td>\n",
       "      <td>Packaging</td>\n",
       "      <td>20</td>\n",
       "      <td>40</td>\n",
       "      <td>...</td>\n",
       "      <td>NaN</td>\n",
       "      <td>NaN</td>\n",
       "      <td>NaN</td>\n",
       "      <td>NaN</td>\n",
       "      <td>NaN</td>\n",
       "      <td>NaN</td>\n",
       "      <td>NaN</td>\n",
       "      <td>Employed</td>\n",
       "      <td>nein</td>\n",
       "      <td>2000 to under 2500</td>\n",
       "    </tr>\n",
       "    <tr>\n",
       "      <th>2</th>\n",
       "      <td>64443035</td>\n",
       "      <td>25 to 34 years</td>\n",
       "      <td>Female</td>\n",
       "      <td>Less than once per month</td>\n",
       "      <td>0,3</td>\n",
       "      <td>0,8</td>\n",
       "      <td>0,6</td>\n",
       "      <td>Packaging</td>\n",
       "      <td>80</td>\n",
       "      <td>100</td>\n",
       "      <td>...</td>\n",
       "      <td>NaN</td>\n",
       "      <td>NaN</td>\n",
       "      <td>NaN</td>\n",
       "      <td>NaN</td>\n",
       "      <td>NaN</td>\n",
       "      <td>NaN</td>\n",
       "      <td>NaN</td>\n",
       "      <td>Employed</td>\n",
       "      <td>nein</td>\n",
       "      <td>2500 to under 3000</td>\n",
       "    </tr>\n",
       "    <tr>\n",
       "      <th>3</th>\n",
       "      <td>64165242</td>\n",
       "      <td>25 to 34 years</td>\n",
       "      <td>Female</td>\n",
       "      <td>Less than once per month</td>\n",
       "      <td>0,6</td>\n",
       "      <td>0,8</td>\n",
       "      <td>0,7</td>\n",
       "      <td>Packaging</td>\n",
       "      <td>10</td>\n",
       "      <td>30</td>\n",
       "      <td>...</td>\n",
       "      <td>NaN</td>\n",
       "      <td>NaN</td>\n",
       "      <td>NaN</td>\n",
       "      <td>NaN</td>\n",
       "      <td>NaN</td>\n",
       "      <td>NaN</td>\n",
       "      <td>NaN</td>\n",
       "      <td>Employed</td>\n",
       "      <td>nein</td>\n",
       "      <td>5000 or more</td>\n",
       "    </tr>\n",
       "    <tr>\n",
       "      <th>4</th>\n",
       "      <td>63855730</td>\n",
       "      <td>25 to 34 years</td>\n",
       "      <td>Male</td>\n",
       "      <td>Three or more times per week</td>\n",
       "      <td>0,7</td>\n",
       "      <td>0,8</td>\n",
       "      <td>0,8</td>\n",
       "      <td>Packaging</td>\n",
       "      <td>30</td>\n",
       "      <td>50</td>\n",
       "      <td>...</td>\n",
       "      <td>NaN</td>\n",
       "      <td>NaN</td>\n",
       "      <td>NaN</td>\n",
       "      <td>NaN</td>\n",
       "      <td>NaN</td>\n",
       "      <td>NaN</td>\n",
       "      <td>NaN</td>\n",
       "      <td>Other</td>\n",
       "      <td>nein</td>\n",
       "      <td>1000 to under 1500</td>\n",
       "    </tr>\n",
       "  </tbody>\n",
       "</table>\n",
       "<p>5 rows × 40 columns</p>\n",
       "</div>"
      ],
      "text/plain": [
       "   _Antwort-ID 2. Question 2/15    Which age bracket do you belong to?  \\\n",
       "0     65050219                                     25 to 34 years        \n",
       "1     65050081                                     25 to 34 years        \n",
       "2     64443035                                     25 to 34 years        \n",
       "3     64165242                                     25 to 34 years        \n",
       "4     63855730                                     25 to 34 years        \n",
       "\n",
       "  3. Question 3/15    Which gender do you identify as?  \\\n",
       "0                                             Female     \n",
       "1                                             Female     \n",
       "2                                             Female     \n",
       "3                                             Female     \n",
       "4                                               Male     \n",
       "\n",
       "  '5. Question 5/15    How often do you consume plant-based milk alternatives  \\\n",
       "0                           Less than once per month                            \n",
       "1                       One to three times per month                            \n",
       "2                           Less than once per month                            \n",
       "3                           Less than once per month                            \n",
       "4                       Three or more times per week                            \n",
       "\n",
       "  Score Benefits Score Values Final Score Info Received  \\\n",
       "0              1          0,8         0,9     Packaging   \n",
       "1            0,3          0,8         0,5     Packaging   \n",
       "2            0,3          0,8         0,6     Packaging   \n",
       "3            0,6          0,8         0,7     Packaging   \n",
       "4            0,7          0,8         0,8     Packaging   \n",
       "\n",
       "   Consumer Acceptance Before Benefit Information  \\\n",
       "0                                               0   \n",
       "1                                              20   \n",
       "2                                              80   \n",
       "3                                              10   \n",
       "4                                              30   \n",
       "\n",
       "   Consumer Acceptance After Packaging Information  ...  \\\n",
       "0                                               20  ...   \n",
       "1                                               40  ...   \n",
       "2                                              100  ...   \n",
       "3                                               30  ...   \n",
       "4                                               50  ...   \n",
       "\n",
       "   '15. 12/15    Imagine consuming powdered plant-based milk alternatives  \\\n",
       "0                                                NaN                        \n",
       "1                                                NaN                        \n",
       "2                                                NaN                        \n",
       "3                                                NaN                        \n",
       "4                                                NaN                        \n",
       "\n",
       "   Appearance (1) - Easier transport (6)  Flavour (1) - Easier transport (6)  \\\n",
       "0                                    NaN                                 NaN   \n",
       "1                                    NaN                                 NaN   \n",
       "2                                    NaN                                 NaN   \n",
       "3                                    NaN                                 NaN   \n",
       "4                                    NaN                                 NaN   \n",
       "\n",
       "  Texture (1) - Easier transport (6)  \\\n",
       "0                                NaN   \n",
       "1                                NaN   \n",
       "2                                NaN   \n",
       "3                                NaN   \n",
       "4                                NaN   \n",
       "\n",
       "   Appearance (1) - Mixing your own flavours (6)  \\\n",
       "0                                            NaN   \n",
       "1                                            NaN   \n",
       "2                                            NaN   \n",
       "3                                            NaN   \n",
       "4                                            NaN   \n",
       "\n",
       "   Flavour (1) - Mixing your own flavours (6)  \\\n",
       "0                                         NaN   \n",
       "1                                         NaN   \n",
       "2                                         NaN   \n",
       "3                                         NaN   \n",
       "4                                         NaN   \n",
       "\n",
       "   Texture (1) - Mixing your own flavours (6)  \\\n",
       "0                                         NaN   \n",
       "1                                         NaN   \n",
       "2                                         NaN   \n",
       "3                                         NaN   \n",
       "4                                         NaN   \n",
       "\n",
       "   16. 13/15    What is your current employment status?  \\\n",
       "0                                           Employed      \n",
       "1                                           Employed      \n",
       "2                                           Employed      \n",
       "3                                           Employed      \n",
       "4                                              Other      \n",
       "\n",
       "   17. 14/15    Do you have kids?  \\\n",
       "0                            nein   \n",
       "1                            nein   \n",
       "2                            nein   \n",
       "3                            nein   \n",
       "4                            nein   \n",
       "\n",
       "   '18. 15/15    What is your households total net income (after tax) per month  \n",
       "0                               3000 to under 5000                             \n",
       "1                               2000 to under 2500                             \n",
       "2                               2500 to under 3000                             \n",
       "3                                      5000 or more                             \n",
       "4                               1000 to under 1500                             \n",
       "\n",
       "[5 rows x 40 columns]"
      ]
     },
     "execution_count": 108,
     "metadata": {},
     "output_type": "execute_result"
    }
   ],
   "source": [
    "data.columns = colNames\n",
    "data.head()"
   ]
  },
  {
   "cell_type": "markdown",
   "metadata": {},
   "source": [
    "### Removing columns without any values \"NAN\""
   ]
  },
  {
   "cell_type": "code",
   "execution_count": 109,
   "metadata": {
    "ExecuteTime": {
     "end_time": "2020-04-28T20:34:10.247990Z",
     "start_time": "2020-04-28T20:34:10.232987Z"
    }
   },
   "outputs": [],
   "source": [
    "data_no_NAN = data.dropna(axis=1, how='all')"
   ]
  },
  {
   "cell_type": "code",
   "execution_count": 110,
   "metadata": {
    "ExecuteTime": {
     "end_time": "2020-04-28T20:34:10.284993Z",
     "start_time": "2020-04-28T20:34:10.258989Z"
    }
   },
   "outputs": [
    {
     "data": {
      "text/plain": [
       "_Antwort-ID                                                                                       int64\n",
       "2. Question 2/15    Which age bracket do you belong to?                                          object\n",
       "3. Question 3/15    Which gender do you identify as?                                             object\n",
       "'5. Question 5/15    How often do you consume plant-based milk alternatives                      object\n",
       "Score Benefits                                                                                   object\n",
       "Score Values                                                                                     object\n",
       "Final Score                                                                                      object\n",
       "Info Received                                                                                    object\n",
       "Consumer Acceptance Before Benefit Information                                                    int64\n",
       "Consumer Acceptance After Packaging Information                                                   int64\n",
       "Change in Consumer Acceptance Packaging                                                           int64\n",
       "'12. 10/15    Think of the plant-based milk alternative that you currently consume most often    object\n",
       "Change Importance Appearance - Packaging Benefit                                                  int64\n",
       "Change Importance Flavour - Packaging Benefit                                                     int64\n",
       "Change Importance Texture - Packaging Benefit                                                     int64\n",
       "Appearance before benefit                                                                         int64\n",
       "Flavour before benefit                                                                            int64\n",
       "Texture before benefit                                                                            int64\n",
       "Appearance (1) - Reduced packaging (6)                                                            int64\n",
       "Flavour (1) - Reduced packaging (6)                                                               int64\n",
       "Texture (1) - Reduced packaging (6)                                                               int64\n",
       "16. 13/15    What is your current employment status?                                             object\n",
       "17. 14/15    Do you have kids?                                                                   object\n",
       "'18. 15/15    What is your households total net income (after tax) per month                     object\n",
       "dtype: object"
      ]
     },
     "execution_count": 110,
     "metadata": {},
     "output_type": "execute_result"
    }
   ],
   "source": [
    "data_no_NAN.dtypes"
   ]
  },
  {
   "cell_type": "code",
   "execution_count": 111,
   "metadata": {
    "ExecuteTime": {
     "end_time": "2020-04-28T20:34:10.403994Z",
     "start_time": "2020-04-28T20:34:10.295995Z"
    }
   },
   "outputs": [
    {
     "data": {
      "text/html": [
       "<div>\n",
       "<style scoped>\n",
       "    .dataframe tbody tr th:only-of-type {\n",
       "        vertical-align: middle;\n",
       "    }\n",
       "\n",
       "    .dataframe tbody tr th {\n",
       "        vertical-align: top;\n",
       "    }\n",
       "\n",
       "    .dataframe thead th {\n",
       "        text-align: right;\n",
       "    }\n",
       "</style>\n",
       "<table border=\"1\" class=\"dataframe\">\n",
       "  <thead>\n",
       "    <tr style=\"text-align: right;\">\n",
       "      <th></th>\n",
       "      <th>_Antwort-ID</th>\n",
       "      <th>Consumer Acceptance Before Benefit Information</th>\n",
       "      <th>Consumer Acceptance After Packaging Information</th>\n",
       "      <th>Change in Consumer Acceptance Packaging</th>\n",
       "      <th>Change Importance Appearance - Packaging Benefit</th>\n",
       "      <th>Change Importance Flavour - Packaging Benefit</th>\n",
       "      <th>Change Importance Texture - Packaging Benefit</th>\n",
       "      <th>Appearance before benefit</th>\n",
       "      <th>Flavour before benefit</th>\n",
       "      <th>Texture before benefit</th>\n",
       "      <th>...</th>\n",
       "      <th>'12. 10/15    Think of the plant-based milk alternative that you currently consume most often_less than 5</th>\n",
       "      <th>'12. 10/15    Think of the plant-based milk alternative that you currently consume most often_5-10</th>\n",
       "      <th>16. 13/15    What is your current employment status?_Employed</th>\n",
       "      <th>16. 13/15    What is your current employment status?_Other</th>\n",
       "      <th>17. 14/15    Do you have kids?_nein</th>\n",
       "      <th>'18. 15/15    What is your households total net income (after tax) per month_1000 to under 1500</th>\n",
       "      <th>'18. 15/15    What is your households total net income (after tax) per month_2000 to under 2500</th>\n",
       "      <th>'18. 15/15    What is your households total net income (after tax) per month_2500 to under 3000</th>\n",
       "      <th>'18. 15/15    What is your households total net income (after tax) per month_3000 to under 5000</th>\n",
       "      <th>'18. 15/15    What is your households total net income (after tax) per month_5000 or more</th>\n",
       "    </tr>\n",
       "  </thead>\n",
       "  <tbody>\n",
       "    <tr>\n",
       "      <th>0</th>\n",
       "      <td>65050219</td>\n",
       "      <td>0</td>\n",
       "      <td>20</td>\n",
       "      <td>20</td>\n",
       "      <td>-2</td>\n",
       "      <td>0</td>\n",
       "      <td>0</td>\n",
       "      <td>5</td>\n",
       "      <td>1</td>\n",
       "      <td>2</td>\n",
       "      <td>...</td>\n",
       "      <td>0</td>\n",
       "      <td>0</td>\n",
       "      <td>1</td>\n",
       "      <td>0</td>\n",
       "      <td>1</td>\n",
       "      <td>0</td>\n",
       "      <td>0</td>\n",
       "      <td>0</td>\n",
       "      <td>1</td>\n",
       "      <td>0</td>\n",
       "    </tr>\n",
       "    <tr>\n",
       "      <th>1</th>\n",
       "      <td>65050081</td>\n",
       "      <td>20</td>\n",
       "      <td>40</td>\n",
       "      <td>20</td>\n",
       "      <td>0</td>\n",
       "      <td>0</td>\n",
       "      <td>1</td>\n",
       "      <td>2</td>\n",
       "      <td>1</td>\n",
       "      <td>1</td>\n",
       "      <td>...</td>\n",
       "      <td>1</td>\n",
       "      <td>0</td>\n",
       "      <td>1</td>\n",
       "      <td>0</td>\n",
       "      <td>1</td>\n",
       "      <td>0</td>\n",
       "      <td>1</td>\n",
       "      <td>0</td>\n",
       "      <td>0</td>\n",
       "      <td>0</td>\n",
       "    </tr>\n",
       "    <tr>\n",
       "      <th>2</th>\n",
       "      <td>64443035</td>\n",
       "      <td>80</td>\n",
       "      <td>100</td>\n",
       "      <td>20</td>\n",
       "      <td>3</td>\n",
       "      <td>1</td>\n",
       "      <td>2</td>\n",
       "      <td>3</td>\n",
       "      <td>1</td>\n",
       "      <td>1</td>\n",
       "      <td>...</td>\n",
       "      <td>0</td>\n",
       "      <td>1</td>\n",
       "      <td>1</td>\n",
       "      <td>0</td>\n",
       "      <td>1</td>\n",
       "      <td>0</td>\n",
       "      <td>0</td>\n",
       "      <td>1</td>\n",
       "      <td>0</td>\n",
       "      <td>0</td>\n",
       "    </tr>\n",
       "    <tr>\n",
       "      <th>3</th>\n",
       "      <td>64165242</td>\n",
       "      <td>10</td>\n",
       "      <td>30</td>\n",
       "      <td>20</td>\n",
       "      <td>0</td>\n",
       "      <td>0</td>\n",
       "      <td>0</td>\n",
       "      <td>1</td>\n",
       "      <td>1</td>\n",
       "      <td>1</td>\n",
       "      <td>...</td>\n",
       "      <td>0</td>\n",
       "      <td>0</td>\n",
       "      <td>1</td>\n",
       "      <td>0</td>\n",
       "      <td>1</td>\n",
       "      <td>0</td>\n",
       "      <td>0</td>\n",
       "      <td>0</td>\n",
       "      <td>0</td>\n",
       "      <td>1</td>\n",
       "    </tr>\n",
       "    <tr>\n",
       "      <th>4</th>\n",
       "      <td>63855730</td>\n",
       "      <td>30</td>\n",
       "      <td>50</td>\n",
       "      <td>20</td>\n",
       "      <td>2</td>\n",
       "      <td>1</td>\n",
       "      <td>1</td>\n",
       "      <td>2</td>\n",
       "      <td>1</td>\n",
       "      <td>1</td>\n",
       "      <td>...</td>\n",
       "      <td>1</td>\n",
       "      <td>0</td>\n",
       "      <td>0</td>\n",
       "      <td>1</td>\n",
       "      <td>1</td>\n",
       "      <td>1</td>\n",
       "      <td>0</td>\n",
       "      <td>0</td>\n",
       "      <td>0</td>\n",
       "      <td>0</td>\n",
       "    </tr>\n",
       "  </tbody>\n",
       "</table>\n",
       "<p>5 rows × 42 columns</p>\n",
       "</div>"
      ],
      "text/plain": [
       "   _Antwort-ID  Consumer Acceptance Before Benefit Information  \\\n",
       "0     65050219                                               0   \n",
       "1     65050081                                              20   \n",
       "2     64443035                                              80   \n",
       "3     64165242                                              10   \n",
       "4     63855730                                              30   \n",
       "\n",
       "   Consumer Acceptance After Packaging Information  \\\n",
       "0                                               20   \n",
       "1                                               40   \n",
       "2                                              100   \n",
       "3                                               30   \n",
       "4                                               50   \n",
       "\n",
       "   Change in Consumer Acceptance Packaging  \\\n",
       "0                                       20   \n",
       "1                                       20   \n",
       "2                                       20   \n",
       "3                                       20   \n",
       "4                                       20   \n",
       "\n",
       "   Change Importance Appearance - Packaging Benefit  \\\n",
       "0                                                -2   \n",
       "1                                                 0   \n",
       "2                                                 3   \n",
       "3                                                 0   \n",
       "4                                                 2   \n",
       "\n",
       "   Change Importance Flavour - Packaging Benefit  \\\n",
       "0                                              0   \n",
       "1                                              0   \n",
       "2                                              1   \n",
       "3                                              0   \n",
       "4                                              1   \n",
       "\n",
       "   Change Importance Texture - Packaging Benefit  Appearance before benefit  \\\n",
       "0                                              0                          5   \n",
       "1                                              1                          2   \n",
       "2                                              2                          3   \n",
       "3                                              0                          1   \n",
       "4                                              1                          2   \n",
       "\n",
       "   Flavour before benefit  Texture before benefit  ...  \\\n",
       "0                       1                       2  ...   \n",
       "1                       1                       1  ...   \n",
       "2                       1                       1  ...   \n",
       "3                       1                       1  ...   \n",
       "4                       1                       1  ...   \n",
       "\n",
       "   '12. 10/15    Think of the plant-based milk alternative that you currently consume most often_less than 5  \\\n",
       "0                                                  0                                                            \n",
       "1                                                  1                                                            \n",
       "2                                                  0                                                            \n",
       "3                                                  0                                                            \n",
       "4                                                  1                                                            \n",
       "\n",
       "   '12. 10/15    Think of the plant-based milk alternative that you currently consume most often_5-10  \\\n",
       "0                                                  0                                                      \n",
       "1                                                  0                                                      \n",
       "2                                                  1                                                      \n",
       "3                                                  0                                                      \n",
       "4                                                  0                                                      \n",
       "\n",
       "   16. 13/15    What is your current employment status?_Employed  \\\n",
       "0                                                  1               \n",
       "1                                                  1               \n",
       "2                                                  1               \n",
       "3                                                  1               \n",
       "4                                                  0               \n",
       "\n",
       "   16. 13/15    What is your current employment status?_Other  \\\n",
       "0                                                  0            \n",
       "1                                                  0            \n",
       "2                                                  0            \n",
       "3                                                  0            \n",
       "4                                                  1            \n",
       "\n",
       "   17. 14/15    Do you have kids?_nein  \\\n",
       "0                                    1   \n",
       "1                                    1   \n",
       "2                                    1   \n",
       "3                                    1   \n",
       "4                                    1   \n",
       "\n",
       "   '18. 15/15    What is your households total net income (after tax) per month_1000 to under 1500  \\\n",
       "0                                                  0                                                   \n",
       "1                                                  0                                                   \n",
       "2                                                  0                                                   \n",
       "3                                                  0                                                   \n",
       "4                                                  1                                                   \n",
       "\n",
       "   '18. 15/15    What is your households total net income (after tax) per month_2000 to under 2500  \\\n",
       "0                                                  0                                                   \n",
       "1                                                  1                                                   \n",
       "2                                                  0                                                   \n",
       "3                                                  0                                                   \n",
       "4                                                  0                                                   \n",
       "\n",
       "   '18. 15/15    What is your households total net income (after tax) per month_2500 to under 3000  \\\n",
       "0                                                  0                                                   \n",
       "1                                                  0                                                   \n",
       "2                                                  1                                                   \n",
       "3                                                  0                                                   \n",
       "4                                                  0                                                   \n",
       "\n",
       "   '18. 15/15    What is your households total net income (after tax) per month_3000 to under 5000  \\\n",
       "0                                                  1                                                   \n",
       "1                                                  0                                                   \n",
       "2                                                  0                                                   \n",
       "3                                                  0                                                   \n",
       "4                                                  0                                                   \n",
       "\n",
       "   '18. 15/15    What is your households total net income (after tax) per month_5000 or more  \n",
       "0                                                  0                                           \n",
       "1                                                  0                                           \n",
       "2                                                  0                                           \n",
       "3                                                  1                                           \n",
       "4                                                  0                                           \n",
       "\n",
       "[5 rows x 42 columns]"
      ]
     },
     "execution_count": 111,
     "metadata": {},
     "output_type": "execute_result"
    }
   ],
   "source": [
    "data_oneHotEncoding = pd.get_dummies(data_no_NAN)\n",
    "data_oneHotEncoding.head()"
   ]
  },
  {
   "cell_type": "code",
   "execution_count": 170,
   "metadata": {
    "ExecuteTime": {
     "end_time": "2020-04-28T21:10:46.972658Z",
     "start_time": "2020-04-28T21:10:46.967676Z"
    }
   },
   "outputs": [],
   "source": [
    "Names_data_oneHotEncoding = data_oneHotEncoding.columns.values"
   ]
  },
  {
   "cell_type": "code",
   "execution_count": 171,
   "metadata": {
    "ExecuteTime": {
     "end_time": "2020-04-28T21:10:54.760937Z",
     "start_time": "2020-04-28T21:10:54.751943Z"
    }
   },
   "outputs": [
    {
     "data": {
      "text/plain": [
       "array(['_Antwort-ID', 'Consumer Acceptance Before Benefit Information',\n",
       "       'Consumer Acceptance After Packaging Information',\n",
       "       'Change in Consumer Acceptance Packaging',\n",
       "       'Change Importance Appearance - Packaging Benefit',\n",
       "       'Change Importance Flavour - Packaging Benefit',\n",
       "       'Change Importance Texture - Packaging Benefit',\n",
       "       'Appearance before benefit', 'Flavour before benefit',\n",
       "       'Texture before benefit', 'Appearance (1) - Reduced packaging (6)',\n",
       "       'Flavour (1) - Reduced packaging (6)',\n",
       "       'Texture (1) - Reduced packaging (6)',\n",
       "       '2. Question 2/15    Which age bracket do you belong to?_25 to 34 years',\n",
       "       '2. Question 2/15    Which age bracket do you belong to?_35 to 44 years',\n",
       "       '3. Question 3/15    Which gender do you identify as?_Female',\n",
       "       '3. Question 3/15    Which gender do you identify as?_Male',\n",
       "       \"'5. Question 5/15    How often do you consume plant-based milk alternatives_Less than once per month\",\n",
       "       \"'5. Question 5/15    How often do you consume plant-based milk alternatives_One to three times per month\",\n",
       "       \"'5. Question 5/15    How often do you consume plant-based milk alternatives_Three or more times per week\",\n",
       "       'Score Benefits_0,3', 'Score Benefits_0,6', 'Score Benefits_0,7',\n",
       "       'Score Benefits_1', 'Score Values_0,8', 'Final Score_0,5',\n",
       "       'Final Score_0,6', 'Final Score_0,7', 'Final Score_0,8',\n",
       "       'Final Score_0,9', 'Info Received_Packaging',\n",
       "       \"'12. 10/15    Think of the plant-based milk alternative that you currently consume most often_I would not buy the product\",\n",
       "       \"'12. 10/15    Think of the plant-based milk alternative that you currently consume most often_less than \\x805\",\n",
       "       \"'12. 10/15    Think of the plant-based milk alternative that you currently consume most often_\\x805-10\\x80\",\n",
       "       '16. 13/15    What is your current employment status?_Employed',\n",
       "       '16. 13/15    What is your current employment status?_Other',\n",
       "       '17. 14/15    Do you have kids?_nein',\n",
       "       \"'18. 15/15    What is your households total net income (after tax) per month_\\x801000 to under \\x801500\",\n",
       "       \"'18. 15/15    What is your households total net income (after tax) per month_\\x802000 to under \\x802500\",\n",
       "       \"'18. 15/15    What is your households total net income (after tax) per month_\\x802500 to under \\x803000\",\n",
       "       \"'18. 15/15    What is your households total net income (after tax) per month_\\x803000 to under \\x805000\",\n",
       "       \"'18. 15/15    What is your households total net income (after tax) per month_\\x805000 or more\"],\n",
       "      dtype=object)"
      ]
     },
     "execution_count": 171,
     "metadata": {},
     "output_type": "execute_result"
    }
   ],
   "source": [
    "Names_data_oneHotEncoding"
   ]
  },
  {
   "cell_type": "markdown",
   "metadata": {},
   "source": [
    "### center and scale the data also called normalize"
   ]
  },
  {
   "cell_type": "code",
   "execution_count": 112,
   "metadata": {
    "ExecuteTime": {
     "end_time": "2020-04-28T20:34:10.433991Z",
     "start_time": "2020-04-28T20:34:10.409992Z"
    }
   },
   "outputs": [
    {
     "data": {
      "text/plain": [
       "array([[ 1.29401474, -1.1721057 , -1.1721057 ,  0.        , -1.64316767,\n",
       "        -0.89442719, -0.89442719,  1.87082869, -0.4472136 ,  1.41421356,\n",
       "        -0.35355339, -0.78086881,  0.        ,  0.4472136 , -0.4472136 ,\n",
       "         0.70710678, -0.70710678,  1.        , -0.4472136 , -0.70710678,\n",
       "        -0.70710678, -0.70710678, -0.4472136 ,  2.23606798,  0.        ,\n",
       "        -0.4472136 , -0.4472136 , -0.70710678, -0.4472136 ,  2.23606798,\n",
       "         0.        ,  1.41421356, -0.70710678, -0.70710678,  0.4472136 ,\n",
       "        -0.4472136 ,  0.        , -0.4472136 , -0.4472136 , -0.4472136 ,\n",
       "         1.41421356, -0.4472136 ],\n",
       "       [ 1.29373968, -0.50233101, -0.50233101,  0.        , -0.54772256,\n",
       "        -0.89442719,  0.4472136 , -0.53452248, -0.4472136 , -0.70710678,\n",
       "        -0.88388348, -0.78086881,  0.        ,  0.4472136 , -0.4472136 ,\n",
       "         0.70710678, -0.70710678, -1.        ,  2.23606798, -0.70710678,\n",
       "         1.41421356, -0.70710678, -0.4472136 , -0.4472136 ,  0.        ,\n",
       "         2.23606798, -0.4472136 , -0.70710678, -0.4472136 , -0.4472136 ,\n",
       "         0.        , -0.70710678,  1.41421356, -0.70710678,  0.4472136 ,\n",
       "        -0.4472136 ,  0.        , -0.4472136 ,  2.23606798, -0.4472136 ,\n",
       "        -0.70710678, -0.4472136 ]])"
      ]
     },
     "execution_count": 112,
     "metadata": {},
     "output_type": "execute_result"
    }
   ],
   "source": [
    "scaler = StandardScaler()\n",
    "scaled_data = scaler.fit_transform(data_oneHotEncoding)\n",
    "scaled_data[0:2]"
   ]
  },
  {
   "cell_type": "markdown",
   "metadata": {},
   "source": [
    "## Perform PCA on the data"
   ]
  },
  {
   "cell_type": "code",
   "execution_count": 114,
   "metadata": {
    "ExecuteTime": {
     "end_time": "2020-04-28T20:36:12.288335Z",
     "start_time": "2020-04-28T20:36:12.235332Z"
    }
   },
   "outputs": [],
   "source": [
    "pca = PCA() # create a PCA object\n",
    "pca.fit(scaled_data) # do the math\n",
    "pca_data = pca.transform(scaled_data) # get PCA coordinates for scaled_data"
   ]
  },
  {
   "cell_type": "markdown",
   "metadata": {},
   "source": [
    "### Draw a scree plot and a PCA plot"
   ]
  },
  {
   "cell_type": "code",
   "execution_count": 115,
   "metadata": {
    "ExecuteTime": {
     "end_time": "2020-04-28T20:37:00.885484Z",
     "start_time": "2020-04-28T20:37:00.606476Z"
    }
   },
   "outputs": [
    {
     "data": {
      "image/png": "[encoded data removed]",
      "text/plain": [
       "<Figure size 432x288 with 1 Axes>"
      ]
     },
     "metadata": {
      "needs_background": "light"
     },
     "output_type": "display_data"
    }
   ],
   "source": [
    "#The following code constructs the Scree plot\n",
    "per_var = np.round(pca.explained_variance_ratio_* 100, decimals=1)\n",
    "labels = ['PC' + str(x) for x in range(1, len(per_var)+1)]\n",
    " \n",
    "plt.bar(x=range(1,len(per_var)+1), height=per_var, tick_label=labels)\n",
    "plt.ylabel('Percentage of Explained Variance')\n",
    "plt.xlabel('Principal Component')\n",
    "plt.title('Scree Plot')\n",
    "plt.show()"
   ]
  },
  {
   "cell_type": "markdown",
   "metadata": {},
   "source": [
    "## Determine which genes had the biggest influence on PC1"
   ]
  },
  {
   "cell_type": "markdown",
   "metadata": {},
   "source": [
    "### Get the name of the top 10 measurements (genes) that contribute most to pc1"
   ]
  },
  {
   "cell_type": "code",
   "execution_count": 173,
   "metadata": {
    "ExecuteTime": {
     "end_time": "2020-04-28T21:11:21.894439Z",
     "start_time": "2020-04-28T21:11:21.880445Z"
    }
   },
   "outputs": [
    {
     "data": {
      "text/plain": [
       "_Antwort-ID                                        -2.300661e-01\n",
       "Consumer Acceptance Before Benefit Information      2.189538e-01\n",
       "Consumer Acceptance After Packaging Information     2.189538e-01\n",
       "Change in Consumer Acceptance Packaging            -1.101784e-16\n",
       "Change Importance Appearance - Packaging Benefit    2.468039e-01\n",
       "dtype: float64"
      ]
     },
     "execution_count": 173,
     "metadata": {},
     "output_type": "execute_result"
    }
   ],
   "source": [
    "## first, get the loading scores\n",
    "loading_scores = pd.Series(pca.components_[0], index=Names_data_oneHotEncoding)\n",
    "loading_scores.head()"
   ]
  },
  {
   "cell_type": "code",
   "execution_count": 174,
   "metadata": {
    "ExecuteTime": {
     "end_time": "2020-04-28T21:11:22.561154Z",
     "start_time": "2020-04-28T21:11:22.554150Z"
    }
   },
   "outputs": [],
   "source": [
    "## now sort the loading scores based on their magnitude\n",
    "sorted_loading_scores = loading_scores.abs().sort_values(ascending=False)"
   ]
  },
  {
   "cell_type": "code",
   "execution_count": 175,
   "metadata": {
    "ExecuteTime": {
     "end_time": "2020-04-28T21:11:23.269620Z",
     "start_time": "2020-04-28T21:11:23.263618Z"
    }
   },
   "outputs": [],
   "source": [
    "# get the names of the top 10 genes\n",
    "top_10_variables = sorted_loading_scores[0:10].index.values"
   ]
  },
  {
   "cell_type": "code",
   "execution_count": 176,
   "metadata": {
    "ExecuteTime": {
     "end_time": "2020-04-28T21:11:24.115210Z",
     "start_time": "2020-04-28T21:11:24.102232Z"
    }
   },
   "outputs": [
    {
     "data": {
      "text/plain": [
       "Change Importance Flavour - Packaging Benefit                                                               0.281228\n",
       "Flavour (1) - Reduced packaging (6)                                                                         0.272738\n",
       "Change Importance Appearance - Packaging Benefit                                                            0.246804\n",
       "3. Question 3/15    Which gender do you identify as?_Male                                                   0.244423\n",
       "'5. Question 5/15    How often do you consume plant-based milk alternatives_Three or more times per week    0.244423\n",
       "3. Question 3/15    Which gender do you identify as?_Female                                                -0.244423\n",
       "_Antwort-ID                                                                                                -0.230066\n",
       "Appearance (1) - Reduced packaging (6)                                                                      0.228277\n",
       "Consumer Acceptance Before Benefit Information                                                              0.218954\n",
       "Consumer Acceptance After Packaging Information                                                             0.218954\n",
       "dtype: float64"
      ]
     },
     "execution_count": 176,
     "metadata": {},
     "output_type": "execute_result"
    }
   ],
   "source": [
    "# print the question and their scores (and +/- sign)\n",
    "loading_scores[top_10_variables]"
   ]
  },
  {
   "cell_type": "markdown",
   "metadata": {},
   "source": [
    "### Observing PC1, PC2 and PC3"
   ]
  },
  {
   "cell_type": "code",
   "execution_count": 180,
   "metadata": {
    "ExecuteTime": {
     "end_time": "2020-04-28T21:11:46.684954Z",
     "start_time": "2020-04-28T21:11:46.670952Z"
    }
   },
   "outputs": [
    {
     "data": {
      "text/plain": [
       "Change Importance Flavour - Packaging Benefit                                                               0.281228\n",
       "Flavour (1) - Reduced packaging (6)                                                                         0.272738\n",
       "Change Importance Appearance - Packaging Benefit                                                            0.246804\n",
       "3. Question 3/15    Which gender do you identify as?_Male                                                   0.244423\n",
       "'5. Question 5/15    How often do you consume plant-based milk alternatives_Three or more times per week    0.244423\n",
       "3. Question 3/15    Which gender do you identify as?_Female                                                 0.244423\n",
       "_Antwort-ID                                                                                                 0.230066\n",
       "Appearance (1) - Reduced packaging (6)                                                                      0.228277\n",
       "Consumer Acceptance Before Benefit Information                                                              0.218954\n",
       "Consumer Acceptance After Packaging Information                                                             0.218954\n",
       "dtype: float64"
      ]
     },
     "execution_count": 180,
     "metadata": {},
     "output_type": "execute_result"
    }
   ],
   "source": [
    "# loading scores for PC1\n",
    "loading_scores = pd.Series(pca.components_[0], index=Names_data_oneHotEncoding)\n",
    "loading_scores.abs().sort_values(ascending=False).head(10)"
   ]
  },
  {
   "cell_type": "code",
   "execution_count": 181,
   "metadata": {
    "ExecuteTime": {
     "end_time": "2020-04-28T21:11:52.196812Z",
     "start_time": "2020-04-28T21:11:52.177813Z"
    }
   },
   "outputs": [
    {
     "data": {
      "text/plain": [
       "'12. 10/15    Think of the plant-based milk alternative that you currently consume most often_less than 5    0.297705\n",
       "'18. 15/15    What is your households total net income (after tax) per month_1000 to under 1500             0.259515\n",
       "Final Score_0,8                                                                                               0.259515\n",
       "16. 13/15    What is your current employment status?_Other                                                    0.259515\n",
       "Score Benefits_0,7                                                                                            0.259515\n",
       "16. 13/15    What is your current employment status?_Employed                                                 0.259515\n",
       "'18. 15/15    What is your households total net income (after tax) per month_3000 to under 5000             0.255049\n",
       "Texture before benefit                                                                                        0.255049\n",
       "Change Importance Texture - Packaging Benefit                                                                 0.210644\n",
       "Final Score_0,7                                                                                               0.197676\n",
       "dtype: float64"
      ]
     },
     "execution_count": 181,
     "metadata": {},
     "output_type": "execute_result"
    }
   ],
   "source": [
    "# loading scores for PC2\n",
    "loading_scores = pd.Series(pca.components_[1], index=Names_data_oneHotEncoding)\n",
    "loading_scores.abs().sort_values(ascending=False).head(10)"
   ]
  },
  {
   "cell_type": "code",
   "execution_count": 183,
   "metadata": {
    "ExecuteTime": {
     "end_time": "2020-04-28T21:11:59.889046Z",
     "start_time": "2020-04-28T21:11:59.874047Z"
    }
   },
   "outputs": [
    {
     "data": {
      "text/plain": [
       "Final Score_0,6                                                                                         0.315069\n",
       "'18. 15/15    What is your households total net income (after tax) per month_2500 to under 3000       0.315069\n",
       "Score Benefits_0,3                                                                                      0.310906\n",
       "Texture (1) - Reduced packaging (6)                                                                     0.280849\n",
       "Change Importance Texture - Packaging Benefit                                                           0.272189\n",
       "Consumer Acceptance Before Benefit Information                                                          0.225351\n",
       "Consumer Acceptance After Packaging Information                                                         0.225351\n",
       "'12. 10/15    Think of the plant-based milk alternative that you currently consume most often_5-10    0.219784\n",
       "Appearance (1) - Reduced packaging (6)                                                                  0.164419\n",
       "'18. 15/15    What is your households total net income (after tax) per month_1000 to under 1500       0.163960\n",
       "dtype: float64"
      ]
     },
     "execution_count": 183,
     "metadata": {},
     "output_type": "execute_result"
    }
   ],
   "source": [
    "# loading scores for PC3\n",
    "loading_scores = pd.Series(pca.components_[2], index=Names_data_oneHotEncoding)\n",
    "loading_scores.abs().sort_values(ascending=False).head(10)"
   ]
  },
  {
   "cell_type": "markdown",
   "metadata": {},
   "source": [
    "### Try showing a 3D plot"
   ]
  },
  {
   "cell_type": "code",
   "execution_count": 186,
   "metadata": {
    "ExecuteTime": {
     "end_time": "2020-04-28T21:14:18.637494Z",
     "start_time": "2020-04-28T21:14:18.630490Z"
    }
   },
   "outputs": [],
   "source": [
    "from mpl_toolkits.mplot3d import Axes3D\n",
    "from matplotlib import pyplot"
   ]
  },
  {
   "cell_type": "code",
   "execution_count": 193,
   "metadata": {
    "ExecuteTime": {
     "end_time": "2020-04-28T21:18:29.239909Z",
     "start_time": "2020-04-28T21:18:28.947911Z"
    }
   },
   "outputs": [
    {
     "data": {
      "text/plain": [
       "Text(0.5, 0, 'PC_3')"
      ]
     },
     "execution_count": 193,
     "metadata": {},
     "output_type": "execute_result"
    },
    {
     "data": {
      "image/png": "[encoded data removed]",
      "text/plain": [
       "<Figure size 432x288 with 1 Axes>"
      ]
     },
     "metadata": {
      "needs_background": "light"
     },
     "output_type": "display_data"
    }
   ],
   "source": [
    "fig = pyplot.figure()\n",
    "ax = Axes3D(fig)\n",
    "\n",
    "ax.scatter(pca.components_[0], pca.components_[1], pca.components_[2])\n",
    "ax.set_xlabel('PC_1')\n",
    "ax.set_ylabel('PC_2')\n",
    "ax.set_zlabel('PC_3')"
   ]
  },
  {
   "cell_type": "code",
   "execution_count": 195,
   "metadata": {
    "ExecuteTime": {
     "end_time": "2020-04-28T21:20:14.257495Z",
     "start_time": "2020-04-28T21:20:13.724779Z"
    }
   },
   "outputs": [
    {
     "data": {
      "text/plain": [
       "Text(0.5, 0, 'PC_3')"
      ]
     },
     "execution_count": 195,
     "metadata": {},
     "output_type": "execute_result"
    },
    {
     "data": {
      "image/png": "[encoded data removed]",
      "text/plain": [
       "<Figure size 432x432 with 1 Axes>"
      ]
     },
     "metadata": {},
     "output_type": "display_data"
    }
   ],
   "source": [
    "import re, seaborn as sns, numpy as np, pandas as pd, random\n",
    "from pylab import *\n",
    "from matplotlib.pyplot import plot, show, draw, figure, cm\n",
    "import matplotlib.pyplot as plt\n",
    "from mpl_toolkits.mplot3d import Axes3D\n",
    "sns.set_style(\"whitegrid\", {'axes.grid' : False})\n",
    "\n",
    "fig = plt.figure(figsize=(6,6))\n",
    "\n",
    "ax = Axes3D(fig) # Method 1\n",
    "# ax = fig.add_subplot(111, projection='3d') # Method 2\n",
    "\n",
    "x = pca.components_[0]\n",
    "y = pca.components_[1]\n",
    "z = pca.components_[2]\n",
    "\n",
    "\n",
    "ax.scatter(x, y, z, c=x, marker='o')\n",
    "ax.set_xlabel('PC_1')\n",
    "ax.set_ylabel('PC_2')\n",
    "ax.set_zlabel('PC_3')"
   ]
  },
  {
   "cell_type": "code",
   "execution_count": 217,
   "metadata": {
    "ExecuteTime": {
     "end_time": "2020-04-28T21:50:56.359708Z",
     "start_time": "2020-04-28T21:50:55.569684Z"
    }
   },
   "outputs": [
    {
     "data": {
      "image/png": "[encoded data removed]",
      "text/plain": [
       "<Figure size 432x288 with 1 Axes>"
      ]
     },
     "metadata": {},
     "output_type": "display_data"
    }
   ],
   "source": [
    "#the following code makes a plot using PC1 and PC2\n",
    "pca_df = pd.DataFrame(pca_data, columns=labels)\n",
    " \n",
    "plt.scatter(pca_df.PC1, pca_df.PC2)\n",
    "plt.title('My PCA Graph')\n",
    "plt.xlabel('PC1 - {0}%'.format(per_var[0]))\n",
    "plt.ylabel('PC2 - {0}%'.format(per_var[1]))\n",
    " \n",
    "for sample in pca_df.index:\n",
    "    plt.annotate(sample, (pca_df.PC1.loc[sample], pca_df.PC2.loc[sample]))\n",
    " \n",
    "plt.show()"
   ]
  },
  {
   "cell_type": "code",
   "execution_count": 218,
   "metadata": {
    "ExecuteTime": {
     "end_time": "2020-04-28T21:51:17.826071Z",
     "start_time": "2020-04-28T21:51:16.547071Z"
    }
   },
   "outputs": [
    {
     "data": {
      "image/png": "[encoded data removed]",
      "text/plain": [
       "<Figure size 432x288 with 1 Axes>"
      ]
     },
     "metadata": {},
     "output_type": "display_data"
    }
   ],
   "source": [
    "#the following code makes a plot using PC1 and PC3\n",
    "pca_df = pd.DataFrame(pca_data, columns=labels)\n",
    " \n",
    "plt.scatter(pca_df.PC1, pca_df.PC3)\n",
    "plt.title('My PCA Graph')\n",
    "plt.xlabel('PC1 - {0}%'.format(per_var[0]))\n",
    "plt.ylabel('PC2 - {0}%'.format(per_var[2]))\n",
    " \n",
    "for sample in pca_df.index:\n",
    "    plt.annotate(sample, (pca_df.PC1.loc[sample], pca_df.PC3.loc[sample]))\n",
    " \n",
    "plt.show()"
   ]
  },
  {
   "cell_type": "code",
   "execution_count": 219,
   "metadata": {
    "ExecuteTime": {
     "end_time": "2020-04-28T21:51:36.941335Z",
     "start_time": "2020-04-28T21:51:34.042336Z"
    }
   },
   "outputs": [
    {
     "data": {
      "image/png": "[encoded data removed]",
      "text/plain": [
       "<Figure size 432x288 with 2 Axes>"
      ]
     },
     "metadata": {},
     "output_type": "display_data"
    }
   ],
   "source": [
    "x1 = pca_df.PC1\n",
    "x2 = pca_df.PC1\n",
    "\n",
    "y1 = pca_df.PC2\n",
    "y2 = pca_df.PC3\n",
    "\n",
    "plt.subplot(2, 1, 1)\n",
    "plt.scatter(x1, y1)\n",
    "plt.title('Visualizing PC1 vs PC2 and PC3')\n",
    "plt.ylabel('PC2 - {0}%'.format(per_var[1]))\n",
    "\n",
    "\n",
    "plt.subplot(2, 1, 2)\n",
    "plt.scatter(x2, y2)\n",
    "plt.xlabel('PC1 - {0}%'.format(per_var[0]))\n",
    "plt.ylabel('PC3 - {0}%'.format(per_var[2]))\n",
    "\n",
    "plt.show()"
   ]
  },
  {
   "cell_type": "markdown",
   "metadata": {},
   "source": [
    "Samples on the left side (0,1,3) are correlated with each other. Samples on the right side seam to have an opposite tendency however not strogly correlated"
   ]
  }
 ],
 "metadata": {
  "kernelspec": {
   "display_name": "Python [conda env:root] *",
   "language": "python",
   "name": "conda-root-py"
  },
  "language_info": {
   "codemirror_mode": {
    "name": "ipython",
    "version": 3
   },
   "file_extension": ".py",
   "mimetype": "text/x-python",
   "name": "python",
   "nbconvert_exporter": "python",
   "pygments_lexer": "ipython3",
   "version": "3.7.4"
  },
  "toc": {
   "base_numbering": 1,
   "nav_menu": {},
   "number_sections": true,
   "sideBar": true,
   "skip_h1_title": false,
   "title_cell": "Table of Contents",
   "title_sidebar": "Contents",
   "toc_cell": false,
   "toc_position": {},
   "toc_section_display": true,
   "toc_window_display": false
  },
  "varInspector": {
   "cols": {
    "lenName": 16,
    "lenType": 16,
    "lenVar": 40
   },
   "kernels_config": {
    "python": {
     "delete_cmd_postfix": "",
     "delete_cmd_prefix": "del ",
     "library": "var_list.py",
     "varRefreshCmd": "print(var_dic_list())"
    },
    "r": {
     "delete_cmd_postfix": ") ",
     "delete_cmd_prefix": "rm(",
     "library": "var_list.r",
     "varRefreshCmd": "cat(var_dic_list()) "
    }
   },
   "types_to_exclude": [
    "module",
    "function",
    "builtin_function_or_method",
    "instance",
    "_Feature"
   ],
   "window_display": false
  }
 },
 "nbformat": 4,
 "nbformat_minor": 2
}
